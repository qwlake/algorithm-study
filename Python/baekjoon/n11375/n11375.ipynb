{
 "cells": [
  {
   "cell_type": "code",
   "execution_count": 1,
   "metadata": {},
   "outputs": [],
   "source": [
    "INF = 1000000000"
   ]
  },
  {
   "cell_type": "code",
   "execution_count": 2,
   "metadata": {},
   "outputs": [
    {
     "name": "stdin",
     "output_type": "stream",
     "text": [
      " 5 5\n"
     ]
    }
   ],
   "source": [
    "# A[i], B[i]: 그룹의 i번 정점과 매칭된 상대편 그룹 정점 번호\n",
    "temp = input().split(\" \")\n",
    "N = int(temp[0])\n",
    "W = int(temp[1])\n",
    "A = [-1 for _ in range(N)]\n",
    "B = [-1 for _ in range(W)]\n",
    "dist = [0 for _ in range(N)] # dist[i]: (A그룹의) i번 정점의 레벨(?)\n",
    "used = [False for _ in range(N)] # used: (A그룹의) 이 정점이 매칭에 속해 있는가?\n",
    "adj = [[] for _ in range(N)]"
   ]
  },
  {
   "cell_type": "code",
   "execution_count": 3,
   "metadata": {},
   "outputs": [],
   "source": [
    "# 호프크로프트 카프 전용 bfs 함수: A그룹의 각 정점에 레벨을 매김\n",
    "Q = []\n",
    "def bfs():\n",
    "    # 매칭에 안 속한 A그룹의 정점만 레벨 0인 채로 시작\n",
    "    for i in range(N):\n",
    "        if not used[i]:\n",
    "            dist[i] = 0\n",
    "            Q.append(i)\n",
    "        else:\n",
    "            dist[i] = INF\n",
    "    # BFS를 통해 A그룹 정점에 0, 1, 2, 3, ... 의 레벨을 매김\n",
    "    while len(Q) != 0:\n",
    "        a = Q.pop(0)\n",
    "        for b in adj[a]:\n",
    "            if B[b] != -1 and dist[B[b]] == INF:\n",
    "                dist[B[b]] = dist[a] + 1\n",
    "                Q.append(B[b])"
   ]
  },
  {
   "cell_type": "code",
   "execution_count": 4,
   "metadata": {},
   "outputs": [],
   "source": [
    "# 호프크로프트 카프 전용 dfs 함수: 새 매칭을 찾으면 true\n",
    "def dfs(a):\n",
    "    for b in adj[a]:\n",
    "        # 이분 매칭 코드와 상당히 유사하나, dist 배열에 대한 조건이 추가로 붙음\n",
    "        if B[b] == -1 or dist[B[b]] == dist[a]+1 and dfs(B[b]):\n",
    "            # used 배열 값도 true가 됨\n",
    "            used[a] = True\n",
    "            A[a] = b\n",
    "            B[b] = a\n",
    "            return True\n",
    "    return False"
   ]
  },
  {
   "cell_type": "code",
   "execution_count": 12,
   "metadata": {},
   "outputs": [
    {
     "name": "stdout",
     "output_type": "stream",
     "text": [
      "['']\n"
     ]
    },
    {
     "ename": "ValueError",
     "evalue": "invalid literal for int() with base 10: ''",
     "output_type": "error",
     "traceback": [
      "\u001b[1;31m---------------------------------------------------------------------------\u001b[0m",
      "\u001b[1;31mValueError\u001b[0m                                Traceback (most recent call last)",
      "\u001b[1;32m<ipython-input-12-96e822385084>\u001b[0m in \u001b[0;36m<module>\u001b[1;34m()\u001b[0m\n\u001b[0;32m      6\u001b[0m         \u001b[0mtemp\u001b[0m \u001b[1;33m=\u001b[0m \u001b[0mstdin\u001b[0m\u001b[1;33m.\u001b[0m\u001b[0mreadline\u001b[0m\u001b[1;33m(\u001b[0m\u001b[1;33m)\u001b[0m\u001b[1;33m.\u001b[0m\u001b[0msplit\u001b[0m\u001b[1;33m(\u001b[0m\u001b[1;34m\" \"\u001b[0m\u001b[1;33m)\u001b[0m\u001b[1;33m\u001b[0m\u001b[0m\n\u001b[0;32m      7\u001b[0m         \u001b[0mprint\u001b[0m\u001b[1;33m(\u001b[0m\u001b[0mtemp\u001b[0m\u001b[1;33m)\u001b[0m\u001b[1;33m\u001b[0m\u001b[0m\n\u001b[1;32m----> 8\u001b[1;33m         \u001b[0mJ\u001b[0m \u001b[1;33m=\u001b[0m \u001b[0mint\u001b[0m\u001b[1;33m(\u001b[0m\u001b[0mtemp\u001b[0m\u001b[1;33m[\u001b[0m\u001b[1;36m0\u001b[0m\u001b[1;33m]\u001b[0m\u001b[1;33m)\u001b[0m\u001b[1;33m\u001b[0m\u001b[0m\n\u001b[0m\u001b[0;32m      9\u001b[0m         \u001b[1;32mfor\u001b[0m \u001b[0mj\u001b[0m \u001b[1;32min\u001b[0m \u001b[0mrange\u001b[0m\u001b[1;33m(\u001b[0m\u001b[1;36m1\u001b[0m\u001b[1;33m,\u001b[0m \u001b[0mJ\u001b[0m\u001b[1;33m+\u001b[0m\u001b[1;36m1\u001b[0m\u001b[1;33m)\u001b[0m\u001b[1;33m:\u001b[0m\u001b[1;33m\u001b[0m\u001b[0m\n\u001b[0;32m     10\u001b[0m             \u001b[0madj\u001b[0m\u001b[1;33m[\u001b[0m\u001b[0mi\u001b[0m\u001b[1;33m]\u001b[0m\u001b[1;33m.\u001b[0m\u001b[0mappend\u001b[0m\u001b[1;33m(\u001b[0m\u001b[0mint\u001b[0m\u001b[1;33m(\u001b[0m\u001b[0mtemp\u001b[0m\u001b[1;33m[\u001b[0m\u001b[0mj\u001b[0m\u001b[1;33m]\u001b[0m\u001b[1;33m)\u001b[0m\u001b[1;33m-\u001b[0m\u001b[1;36m1\u001b[0m\u001b[1;33m)\u001b[0m\u001b[1;33m\u001b[0m\u001b[0m\n",
      "\u001b[1;31mValueError\u001b[0m: invalid literal for int() with base 10: ''"
     ]
    }
   ],
   "source": [
    "from sys import stdin\n",
    "\n",
    "if __name__ == \"__main__\":\n",
    "    # 그래프 정보 입력받기\n",
    "    for i in range(N):\n",
    "        temp = stdin.readline().split(\" \")\n",
    "        J = int(temp[0])\n",
    "        for j in range(1, J+1):\n",
    "            adj[i].append(int(temp[j])-1)\n",
    "\n",
    "    # 호프크로프트 카프 알고리즘\n",
    "    match = 0\n",
    "    while True:\n",
    "        # 각 정점에 레벨을 매기고 시작\n",
    "        bfs()\n",
    "\n",
    "        # 이분 매칭과 비슷하게 A그룹 정점을 순회하며 매칭 증가량 찾음\n",
    "        flow = 0\n",
    "        for i in range(N):\n",
    "            if not used[i] and dfs(i):\n",
    "                flow += 1\n",
    "\n",
    "        # 더 이상 증가 경로를 못 찾으면 알고리즘 종료\n",
    "        if flow == 0:\n",
    "            break\n",
    "        # 찾았을 경우 반복\n",
    "        match += flow\n",
    "\n",
    "    # 결과 출력\n",
    "    print(match);"
   ]
  },
  {
   "cell_type": "code",
   "execution_count": null,
   "metadata": {},
   "outputs": [],
   "source": []
  }
 ],
 "metadata": {
  "kernelspec": {
   "display_name": "Python 3",
   "language": "python",
   "name": "python3"
  },
  "language_info": {
   "codemirror_mode": {
    "name": "ipython",
    "version": 3
   },
   "file_extension": ".py",
   "mimetype": "text/x-python",
   "name": "python",
   "nbconvert_exporter": "python",
   "pygments_lexer": "ipython3",
   "version": "3.7.0"
  }
 },
 "nbformat": 4,
 "nbformat_minor": 2
}
