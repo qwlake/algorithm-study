{
 "cells": [
  {
   "cell_type": "code",
   "execution_count": 2,
   "metadata": {},
   "outputs": [
    {
     "name": "stdin",
     "output_type": "stream",
     "text": [
      " 5 5 2\n"
     ]
    }
   ],
   "source": [
    "first = input().split(\" \")\n",
    "N, M, K = int(first[0]), int(first[1]), int(first[2])\n",
    "possible = []\n",
    "possible_count = []\n",
    "works_count = [0 for _ in range(M)]\n",
    "check = [0 for _ in range(M)]"
   ]
  },
  {
   "cell_type": "code",
   "execution_count": 51,
   "metadata": {},
   "outputs": [
    {
     "name": "stdin",
     "output_type": "stream",
     "text": [
      " 5 1 2 3 4 5\n",
      " 1 1\n",
      " 1 1\n",
      " 1 1\n",
      " 2 1 5\n"
     ]
    }
   ],
   "source": [
    "for i in range(N):\n",
    "    second = input().split(\" \")\n",
    "    possible_count.append(int(second[0]))\n",
    "    temp = [int(second[p+1]) for p in range(possible_count[i])]\n",
    "    possible.append(temp)\n",
    "    for j in temp:\n",
    "        works_count[j-1] += 1"
   ]
  },
  {
   "cell_type": "code",
   "execution_count": 52,
   "metadata": {},
   "outputs": [],
   "source": [
    "sort = sorted(range(len(possible_count)), key=lambda k: possible_count[k], reverse=True)"
   ]
  },
  {
   "cell_type": "code",
   "execution_count": 53,
   "metadata": {},
   "outputs": [
    {
     "name": "stdout",
     "output_type": "stream",
     "text": [
      "5\n",
      "[1, 2, 3, 4, 0]\n",
      "2\n",
      "[4, 0]\n",
      "1\n",
      "[0]\n",
      "1\n",
      "[0]\n",
      "1\n",
      "[0]\n"
     ]
    }
   ],
   "source": [
    "for i in sort:\n",
    "    p_max = i\n",
    "    sort_to_index = sorted(range(len(works_count)), key=lambda k: works_count[k])\n",
    "    p_works = sort_to_index[-len(possible[p_max]):]\n",
    "    print(len(possible[p_max]))\n",
    "    print(p_works)\n",
    "    for j in p_works:\n",
    "        if check[j] == 0:\n",
    "            check[j] = 1\n",
    "            if possible_count[p_max] > 0:\n",
    "                possible_count[p_max] -= 1\n",
    "            elif K > 0:\n",
    "                K -= 1\n",
    "            else:\n",
    "                check[j] = 0\n",
    "                break"
   ]
  },
  {
   "cell_type": "code",
   "execution_count": 54,
   "metadata": {},
   "outputs": [
    {
     "name": "stdout",
     "output_type": "stream",
     "text": [
      "5\n"
     ]
    }
   ],
   "source": [
    "count = 0\n",
    "for i in check:\n",
    "    if i == 1:\n",
    "        count += 1\n",
    "print(count)"
   ]
  },
  {
   "cell_type": "code",
   "execution_count": 44,
   "metadata": {},
   "outputs": [],
   "source": [
    "# print(works_count)\n",
    "# print(possible_count)\n",
    "# print(sort)\n",
    "# print(p_max)\n",
    "# print(sort_to_index)\n",
    "# print(p_works)\n",
    "# print(check)"
   ]
  },
  {
   "cell_type": "code",
   "execution_count": null,
   "metadata": {},
   "outputs": [],
   "source": []
  }
 ],
 "metadata": {
  "kernelspec": {
   "display_name": "Python 3",
   "language": "python",
   "name": "python3"
  },
  "language_info": {
   "codemirror_mode": {
    "name": "ipython",
    "version": 3
   },
   "file_extension": ".py",
   "mimetype": "text/x-python",
   "name": "python",
   "nbconvert_exporter": "python",
   "pygments_lexer": "ipython3",
   "version": "3.7.0"
  }
 },
 "nbformat": 4,
 "nbformat_minor": 2
}
